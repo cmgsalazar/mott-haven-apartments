{
 "cells": [
  {
   "cell_type": "markdown",
   "id": "fb9e21ac-7d14-4b79-8f9b-39f885186708",
   "metadata": {},
   "source": [
    "# Cleaning up data\n",
    "\n",
    "Based on our review of the average rental prices, we saw that the earliest reported spike happened in 2019. So, we'll keep only buildings built 2019 onward. We also want to drop buildings that are outside our area of interest."
   ]
  },
  {
   "cell_type": "code",
   "execution_count": 1,
   "id": "8e13127b-4927-468b-9ea7-9bc85bf48bb2",
   "metadata": {},
   "outputs": [],
   "source": [
    "# importing libraries\n",
    "import pandas as pd"
   ]
  },
  {
   "cell_type": "code",
   "execution_count": 2,
   "id": "d4dc0509-f1eb-4991-8147-cea28efce37e",
   "metadata": {},
   "outputs": [
    {
     "data": {
      "text/plain": [
       "building_name     object\n",
       "link              object\n",
       "address           object\n",
       "coordinates       object\n",
       "total_units      float64\n",
       "total_stories    float64\n",
       "year_built       float64\n",
       "dtype: object"
      ]
     },
     "execution_count": 2,
     "metadata": {},
     "output_type": "execute_result"
    }
   ],
   "source": [
    "df = pd.read_csv(\"mott-haven-streeteasy-buildings.csv\")\n",
    "df.dtypes"
   ]
  },
  {
   "cell_type": "code",
   "execution_count": 3,
   "id": "e4eab11b-99a0-498a-80da-d8c1a3b10905",
   "metadata": {},
   "outputs": [
    {
     "data": {
      "text/plain": [
       "488"
      ]
     },
     "execution_count": 3,
     "metadata": {},
     "output_type": "execute_result"
    }
   ],
   "source": [
    "len(df)"
   ]
  },
  {
   "cell_type": "markdown",
   "id": "373f4638-de29-4c14-9838-237c3e3d8cd4",
   "metadata": {},
   "source": [
    "## Keeping only buildings built in 2019 onward"
   ]
  },
  {
   "cell_type": "code",
   "execution_count": 4,
   "id": "b64dc6c4-a191-404a-8d70-8fc76f9bb483",
   "metadata": {},
   "outputs": [
    {
     "data": {
      "text/plain": [
       "23"
      ]
     },
     "execution_count": 4,
     "metadata": {},
     "output_type": "execute_result"
    }
   ],
   "source": [
    "filtered_df = df[df[\"year_built\"] >= 2019]\n",
    "len(filtered_df)"
   ]
  },
  {
   "cell_type": "markdown",
   "id": "541b905b-10c8-45e7-b466-506256b25bf2",
   "metadata": {},
   "source": [
    "## Coordinates for Port Morris area\n",
    "\n",
    "Here, we will filter the `df` further, by dropping items that are outside our target area. The polygon was plotted via [geojson.io](https://geojson.io/)."
   ]
  },
  {
   "cell_type": "code",
   "execution_count": 5,
   "id": "538579fd-e453-4260-8e19-917308be4a64",
   "metadata": {},
   "outputs": [
    {
     "name": "stderr",
     "output_type": "stream",
     "text": [
      "/var/folders/4f/fk_hbgy14cg47tw521m3y0xw0000gn/T/ipykernel_27685/723726636.py:2: SettingWithCopyWarning: \n",
      "A value is trying to be set on a copy of a slice from a DataFrame.\n",
      "Try using .loc[row_indexer,col_indexer] = value instead\n",
      "\n",
      "See the caveats in the documentation: https://pandas.pydata.org/pandas-docs/stable/user_guide/indexing.html#returning-a-view-versus-a-copy\n",
      "  filtered_df[['latitude', 'longitude']] = filtered_df['coordinates'].str.split(\",\", expand=True)\n",
      "/var/folders/4f/fk_hbgy14cg47tw521m3y0xw0000gn/T/ipykernel_27685/723726636.py:2: SettingWithCopyWarning: \n",
      "A value is trying to be set on a copy of a slice from a DataFrame.\n",
      "Try using .loc[row_indexer,col_indexer] = value instead\n",
      "\n",
      "See the caveats in the documentation: https://pandas.pydata.org/pandas-docs/stable/user_guide/indexing.html#returning-a-view-versus-a-copy\n",
      "  filtered_df[['latitude', 'longitude']] = filtered_df['coordinates'].str.split(\",\", expand=True)\n",
      "/var/folders/4f/fk_hbgy14cg47tw521m3y0xw0000gn/T/ipykernel_27685/723726636.py:5: SettingWithCopyWarning: \n",
      "A value is trying to be set on a copy of a slice from a DataFrame.\n",
      "Try using .loc[row_indexer,col_indexer] = value instead\n",
      "\n",
      "See the caveats in the documentation: https://pandas.pydata.org/pandas-docs/stable/user_guide/indexing.html#returning-a-view-versus-a-copy\n",
      "  filtered_df['latitude'] = pd.to_numeric(filtered_df['latitude'])\n",
      "/var/folders/4f/fk_hbgy14cg47tw521m3y0xw0000gn/T/ipykernel_27685/723726636.py:6: SettingWithCopyWarning: \n",
      "A value is trying to be set on a copy of a slice from a DataFrame.\n",
      "Try using .loc[row_indexer,col_indexer] = value instead\n",
      "\n",
      "See the caveats in the documentation: https://pandas.pydata.org/pandas-docs/stable/user_guide/indexing.html#returning-a-view-versus-a-copy\n",
      "  filtered_df['longitude'] = pd.to_numeric(filtered_df['longitude'])\n"
     ]
    }
   ],
   "source": [
    "# splitting lat and long from `coordinates`\n",
    "filtered_df[['latitude', 'longitude']] = filtered_df['coordinates'].str.split(\",\", expand=True)\n",
    "\n",
    "# convert to float\n",
    "filtered_df['latitude'] = pd.to_numeric(filtered_df['latitude'])\n",
    "filtered_df['longitude'] = pd.to_numeric(filtered_df['longitude'])"
   ]
  },
  {
   "cell_type": "code",
   "execution_count": 6,
   "id": "9f0fb722-4a55-4e78-aed5-165471126791",
   "metadata": {},
   "outputs": [],
   "source": [
    "# declaring coordinates for our target area\n",
    "\n",
    "polygon_coords = [\n",
    "    (-73.9190382254446, 40.79911470202015),\n",
    "    (-73.91660044458266, 40.80239535458509),\n",
    "    (-73.91714217366301, 40.80369390143031),\n",
    "    (-73.92711901756049, 40.807828578714776),\n",
    "    (-73.9312271297539, 40.81097212789376),\n",
    "    (-73.93149799429405, 40.811928830692864),\n",
    "    (-73.93280717290484, 40.811416313051694),\n",
    "    (-73.9327168847248, 40.80895617326601),\n",
    "    (-73.92860877253183, 40.80396727647616),\n",
    "    (-73.92766074664124, 40.80256621746361),\n",
    "    (-73.92662243257016, 40.80239535458509),\n",
    "    (-73.92359777853783, 40.80246369978926),\n",
    "    (-73.92174687084673, 40.80157520664537),\n",
    "    (-73.92048283632549, 40.79959314061813),\n",
    "    (-73.9190382254446, 40.79911470202015)\n",
    "]"
   ]
  },
  {
   "cell_type": "code",
   "execution_count": 7,
   "id": "60e8d5b6-34bd-41dd-8d25-1e4200cd2c73",
   "metadata": {},
   "outputs": [
    {
     "data": {
      "text/html": [
       "<div>\n",
       "<style scoped>\n",
       "    .dataframe tbody tr th:only-of-type {\n",
       "        vertical-align: middle;\n",
       "    }\n",
       "\n",
       "    .dataframe tbody tr th {\n",
       "        vertical-align: top;\n",
       "    }\n",
       "\n",
       "    .dataframe thead th {\n",
       "        text-align: right;\n",
       "    }\n",
       "</style>\n",
       "<table border=\"1\" class=\"dataframe\">\n",
       "  <thead>\n",
       "    <tr style=\"text-align: right;\">\n",
       "      <th></th>\n",
       "      <th>building_name</th>\n",
       "      <th>latitude</th>\n",
       "      <th>longitude</th>\n",
       "      <th>building_name</th>\n",
       "    </tr>\n",
       "  </thead>\n",
       "  <tbody>\n",
       "    <tr>\n",
       "      <th>0</th>\n",
       "      <td>The Arches +NYC</td>\n",
       "      <td>40.810096</td>\n",
       "      <td>-73.930533</td>\n",
       "      <td>The Arches +NYC</td>\n",
       "    </tr>\n",
       "    <tr>\n",
       "      <th>1</th>\n",
       "      <td>The Arches</td>\n",
       "      <td>40.809963</td>\n",
       "      <td>-73.931007</td>\n",
       "      <td>The Arches</td>\n",
       "    </tr>\n",
       "    <tr>\n",
       "      <th>2</th>\n",
       "      <td>One38</td>\n",
       "      <td>40.803534</td>\n",
       "      <td>-73.920762</td>\n",
       "      <td>One38</td>\n",
       "    </tr>\n",
       "    <tr>\n",
       "      <th>3</th>\n",
       "      <td>Bruckner House</td>\n",
       "      <td>40.806294</td>\n",
       "      <td>-73.927228</td>\n",
       "      <td>Bruckner House</td>\n",
       "    </tr>\n",
       "    <tr>\n",
       "      <th>5</th>\n",
       "      <td>Maven Mott Haven</td>\n",
       "      <td>40.808753</td>\n",
       "      <td>-73.931452</td>\n",
       "      <td>Maven Mott Haven</td>\n",
       "    </tr>\n",
       "    <tr>\n",
       "      <th>8</th>\n",
       "      <td>101 Bruckner Boulevard</td>\n",
       "      <td>40.805482</td>\n",
       "      <td>-73.925894</td>\n",
       "      <td>101 Bruckner Boulevard</td>\n",
       "    </tr>\n",
       "    <tr>\n",
       "      <th>9</th>\n",
       "      <td>Third at Bankside</td>\n",
       "      <td>40.808674</td>\n",
       "      <td>-73.931915</td>\n",
       "      <td>Third at Bankside</td>\n",
       "    </tr>\n",
       "    <tr>\n",
       "      <th>10</th>\n",
       "      <td>The Motto</td>\n",
       "      <td>40.809346</td>\n",
       "      <td>-73.929697</td>\n",
       "      <td>The Motto</td>\n",
       "    </tr>\n",
       "    <tr>\n",
       "      <th>11</th>\n",
       "      <td>Lincoln at Bankside</td>\n",
       "      <td>40.807106</td>\n",
       "      <td>-73.930036</td>\n",
       "      <td>Lincoln at Bankside</td>\n",
       "    </tr>\n",
       "    <tr>\n",
       "      <th>14</th>\n",
       "      <td>Brown Place Pearl</td>\n",
       "      <td>40.805283</td>\n",
       "      <td>-73.922190</td>\n",
       "      <td>Brown Place Pearl</td>\n",
       "    </tr>\n",
       "    <tr>\n",
       "      <th>17</th>\n",
       "      <td>2490 Third Avenue</td>\n",
       "      <td>40.809953</td>\n",
       "      <td>-73.928254</td>\n",
       "      <td>2490 Third Avenue</td>\n",
       "    </tr>\n",
       "    <tr>\n",
       "      <th>18</th>\n",
       "      <td>The Haven</td>\n",
       "      <td>40.807076</td>\n",
       "      <td>-73.923449</td>\n",
       "      <td>The Haven</td>\n",
       "    </tr>\n",
       "    <tr>\n",
       "      <th>32</th>\n",
       "      <td>109 Bruckner Boulevard</td>\n",
       "      <td>40.805072</td>\n",
       "      <td>-73.922559</td>\n",
       "      <td>109 Bruckner Boulevard</td>\n",
       "    </tr>\n",
       "    <tr>\n",
       "      <th>75</th>\n",
       "      <td>582 East 138th Street</td>\n",
       "      <td>40.806303</td>\n",
       "      <td>-73.916970</td>\n",
       "      <td>582 East 138th Street</td>\n",
       "    </tr>\n",
       "    <tr>\n",
       "      <th>86</th>\n",
       "      <td>582 East 138th Street</td>\n",
       "      <td>40.806303</td>\n",
       "      <td>-73.916970</td>\n",
       "      <td>582 East 138th Street</td>\n",
       "    </tr>\n",
       "    <tr>\n",
       "      <th>478</th>\n",
       "      <td>555 East 137th Street</td>\n",
       "      <td>40.806342</td>\n",
       "      <td>-73.918137</td>\n",
       "      <td>555 East 137th Street</td>\n",
       "    </tr>\n",
       "  </tbody>\n",
       "</table>\n",
       "</div>"
      ],
      "text/plain": [
       "              building_name   latitude  longitude           building_name\n",
       "0           The Arches +NYC  40.810096 -73.930533         The Arches +NYC\n",
       "1                The Arches  40.809963 -73.931007              The Arches\n",
       "2                     One38  40.803534 -73.920762                   One38\n",
       "3            Bruckner House  40.806294 -73.927228          Bruckner House\n",
       "5          Maven Mott Haven  40.808753 -73.931452        Maven Mott Haven\n",
       "8    101 Bruckner Boulevard  40.805482 -73.925894  101 Bruckner Boulevard\n",
       "9         Third at Bankside  40.808674 -73.931915       Third at Bankside\n",
       "10                The Motto  40.809346 -73.929697               The Motto\n",
       "11      Lincoln at Bankside  40.807106 -73.930036     Lincoln at Bankside\n",
       "14        Brown Place Pearl  40.805283 -73.922190       Brown Place Pearl\n",
       "17        2490 Third Avenue  40.809953 -73.928254       2490 Third Avenue\n",
       "18                The Haven  40.807076 -73.923449               The Haven\n",
       "32   109 Bruckner Boulevard  40.805072 -73.922559  109 Bruckner Boulevard\n",
       "75    582 East 138th Street  40.806303 -73.916970   582 East 138th Street\n",
       "86    582 East 138th Street  40.806303 -73.916970   582 East 138th Street\n",
       "478   555 East 137th Street  40.806342 -73.918137   555 East 137th Street"
      ]
     },
     "execution_count": 7,
     "metadata": {},
     "output_type": "execute_result"
    }
   ],
   "source": [
    "# extract min/max latitude and longitude \n",
    "lngs, lats = zip(*polygon_coords)\n",
    "min_lng, max_lng = min(lngs), max(lngs)\n",
    "min_lat, max_lat = min(lats), max(lats)\n",
    "\n",
    "# filtering coordinates\n",
    "final_df = filtered_df[(filtered_df[\"latitude\"] >= min_lat) & (filtered_df[\"latitude\"] <= max_lat) & \n",
    "                 (filtered_df[\"longitude\"] >= min_lng) & (filtered_df[\"longitude\"] <= max_lng)]\n",
    "\n",
    "# checking our data\n",
    "final_df[[\"building_name\", \"latitude\", \"longitude\", \"building_name\"]]"
   ]
  },
  {
   "cell_type": "code",
   "execution_count": 8,
   "id": "079c2434-1d0d-47f2-91e3-e738ec99f54d",
   "metadata": {},
   "outputs": [
    {
     "data": {
      "text/plain": [
       "16"
      ]
     },
     "execution_count": 8,
     "metadata": {},
     "output_type": "execute_result"
    }
   ],
   "source": [
    "len(final_df)"
   ]
  },
  {
   "cell_type": "markdown",
   "id": "de8f6e66-0946-4b4b-b04b-9a13519afd91",
   "metadata": {},
   "source": [
    "## Saving as `csv`"
   ]
  },
  {
   "cell_type": "code",
   "execution_count": 9,
   "id": "09f3d245-6fb7-4290-94da-82ce62059c37",
   "metadata": {},
   "outputs": [],
   "source": [
    "final_df.to_csv(\"filtered_buildings.csv\", encoding=\"UTF-8\", index=False)"
   ]
  },
  {
   "cell_type": "code",
   "execution_count": null,
   "id": "6fe54745-75ce-45ea-ba5d-6e0edcd04235",
   "metadata": {},
   "outputs": [],
   "source": []
  }
 ],
 "metadata": {
  "kernelspec": {
   "display_name": "Python 3 (ipykernel)",
   "language": "python",
   "name": "python3"
  },
  "language_info": {
   "codemirror_mode": {
    "name": "ipython",
    "version": 3
   },
   "file_extension": ".py",
   "mimetype": "text/x-python",
   "name": "python",
   "nbconvert_exporter": "python",
   "pygments_lexer": "ipython3",
   "version": "3.11.8"
  }
 },
 "nbformat": 4,
 "nbformat_minor": 5
}
