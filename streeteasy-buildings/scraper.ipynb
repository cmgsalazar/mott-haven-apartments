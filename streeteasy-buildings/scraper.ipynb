{
 "cells": [
  {
   "cell_type": "markdown",
   "id": "b8fc9163-55ca-4ee6-82f3-a456d87bc67c",
   "metadata": {},
   "source": [
    "### StreetEasy Mott Haven Buildings\n",
    "\n",
    "In this notebook, we will be scraping the [list of buildings in Mott Haven](https://streeteasy.com/buildings/mott-haven) from the StreetEasy website. The details we need are the following:\n",
    "\n",
    "* building name\n",
    "* address\n",
    "* coordinates (for mapping)\n",
    "* year it was built\n",
    "* number of stories\n",
    "* number of units\n",
    "* link to individual pages (which we will use to get more details)"
   ]
  },
  {
   "cell_type": "code",
   "execution_count": 1,
   "id": "78d5e93a-ef6c-41f2-8244-2b3112210d5c",
   "metadata": {},
   "outputs": [],
   "source": [
    "# importing libraries\n",
    "import requests\n",
    "from bs4 import BeautifulSoup\n",
    "import pandas as pd\n",
    "from random import randrange\n",
    "import time"
   ]
  },
  {
   "cell_type": "code",
   "execution_count": 2,
   "id": "b4ba8068-6639-4362-9153-bd44f0d75bd0",
   "metadata": {},
   "outputs": [],
   "source": [
    "# trial\n",
    "\n",
    "url = \"https://streeteasy.com/buildings/mott-haven\"\n",
    "response = requests.get(url)"
   ]
  },
  {
   "cell_type": "code",
   "execution_count": 3,
   "id": "17ad9a13-99a2-4438-9425-a3feb1880326",
   "metadata": {},
   "outputs": [
    {
     "data": {
      "text/plain": [
       "403"
      ]
     },
     "execution_count": 3,
     "metadata": {},
     "output_type": "execute_result"
    }
   ],
   "source": [
    "response.status_code"
   ]
  },
  {
   "cell_type": "markdown",
   "id": "820c8479-e6fe-42a7-905e-e35c9a2893c2",
   "metadata": {},
   "source": [
    "### Excerpt source code that we wanted to target:\n",
    "\n",
    "```\n",
    "<li id=\"building_6257250\" class=\"item building\" data-id=\"6257250\" se:behavior='selectable hoverable clickable rememberable mappable' se:map='map'se:map:point='40.8078,-73.9291' data-blockindex='0'>\n",
    "  <div class=\"photo\" se:behavior='selectable hoverable clickable rememberable mappable' se:map='map'se:map:point='40.8078,-73.9291'  se:map='map'se:map:point='40.8078,-73.9291'>\n",
    "      <span id=\"saved_banner_6257250\"></span>\n",
    "    <a href=\"/building/the-crescendo\"><img alt=\"The Crescendo  at 25 Bruckner Boulevard in Mott Haven\" class=\"performance-marked\" data-performance-mark=\"search.Buildings.listingImageVisible\" src=\"https://photos.zillowstatic.com/fp/014287801b4057e345148514ce7e04da-se_medium_500_250.webp\" /></a>\n",
    "  </div>\n",
    "\n",
    "  <div class=\"details row\">\n",
    "    <h2 class=\"details-title\">\n",
    "      <a se:clickable:target=\"true\" href=\"/building/the-crescendo\">The Crescendo </a>\n",
    "\n",
    "        <span id=\"buttons_6257250\"></span>\n",
    "\n",
    "            <div class=\"se_embed_react\" data-se-entry=\"userAuth\" data-se-component=\"UserAuthModal\" data-se-id=\"se_embed_react_eb19c5f5-880f-429b-b611-3ab94295952c\" data-react-component=\"\"></div>\n",
    "    <script>\n",
    "    window[\"se_embed_react_eb19c5f5-880f-429b-b611-3ab94295952c\"] = [\"UserAuthModal\",{}]\n",
    "    </script>\n",
    "\n",
    "    </h2>\n",
    "\n",
    "    <ul>\n",
    "        <li>At 25 Bruckner Boulevard</li>\n",
    "        <li class=\"price-info\">\n",
    "          <span class='price'>4 active rentals</span>\n",
    "        </li>\n",
    "\n",
    "        <li>\n",
    "          <ul class=\"details_info\"><li class=\"detail_cell\">130 units</li><li class=\"detail_cell\">6 stories</li><li class=\"detail_cell\">built in 2017</li></ul>\n",
    "        </li>\n",
    "        <li>\n",
    "          <div class=\"details_info\"><span class=\"detail_cell\">Rental Building in Mott Haven</span></div>\n",
    "        </li>\n",
    "        <li id=\"saved_section_6257250\">\n",
    "          <span class=\"u-visuallyHidden\">saved_section</span>\n",
    "        </li>\n",
    "    </ul>\n",
    "  </div>\n",
    "</li>\n",
    "```"
   ]
  },
  {
   "cell_type": "code",
   "execution_count": 4,
   "id": "527c0c7c-3b92-4efc-b9f2-aa781faa962a",
   "metadata": {},
   "outputs": [],
   "source": [
    "# function to check status of pages\n",
    "\n",
    "def status_check(response):\n",
    "    '''\n",
    "    This function checks the status_code of a URL being requested.\n",
    "\n",
    "    Parameter:\n",
    "    response = requests.get(url)\n",
    "    '''\n",
    "    if 200 <= response.status_code <= 299:\n",
    "        print(\"Page is accessible. Scraping begins...\")\n",
    "        return True\n",
    "    else:\n",
    "        print(f\"Error {response.status_code}. We can't proceed.\")\n",
    "        return False"
   ]
  },
  {
   "cell_type": "code",
   "execution_count": 5,
   "id": "eae4e415-021a-4fa4-92fc-0557c954ae4a",
   "metadata": {},
   "outputs": [],
   "source": [
    "# snoozer\n",
    "\n",
    "def snoozer(start_time, end_time):\n",
    "    '''\n",
    "    This function creates a snoozer that can be used when scraping.\n",
    "    It requires `from random import randrange` and `import time`. \n",
    "    \n",
    "    Parameters: \n",
    "    start_time (int) = start time of range, in seconds\n",
    "    end_time (int) = end time of range, in seconds\n",
    "    '''\n",
    "    timer = randrange(start_time, end_time)\n",
    "    print(f\"Snoozing for {timer} seconds...\")\n",
    "    time.sleep(timer)\n",
    "    print(\"\") # adds a line break for readability"
   ]
  },
  {
   "cell_type": "code",
   "execution_count": null,
   "id": "2e3aa283-cd6c-4b87-ab19-eec5eeba5175",
   "metadata": {},
   "outputs": [],
   "source": [
    "## MAIN CODE, DON'T RUN \n",
    "\n",
    "base_url = \"https://streeteasy.com/buildings/mott-haven\"\n",
    "end_page = 45 # number of pages we want to scrape\n",
    "errors_list = [] # holds pages with errors\n",
    "main_df = [] # holds all captured lists\n",
    "\n",
    "for page_num in range(1, end_page + 1):\n",
    "    print(f\"Page {page_num}:\")\n",
    "    \n",
    "    ## requesting URLs\n",
    "    if page_num != 1: # not the first page\n",
    "        response = requests.get(f\"{base_url}?page={page_num}\")\n",
    "    else: # this is the first page\n",
    "        response = requests.get(base_url)\n",
    "    if not status_check(response):\n",
    "        errors_list.append(f\"{base_url}?page={page_num}\")\n",
    "        \n",
    "    ## soupifying the response\n",
    "    soup = BeautifulSoup(response.text, \"html.parser\")\n",
    "    \n",
    "    ## extracting data\n",
    "    # target_items = soup.find_all(\"li\", class_=\"item building\")\n",
    "\n",
    "    # building_names = [ target.find(\"h2\", class_=\"details-title\").get_text(strip=True) for target in target_items ]\n",
    "    # building_links = [ \"https://streeteasy.com\" + target.find(\"a\").get(\"href\") for target in target_items]\n",
    "    # building_addresses = [ target.find(\"ul\".find(\"li\").get_text(strip=True) for target in target_items ]\n",
    "    # building_latlng = [ target.get(\"se:map:point\") for target in target_items]\n",
    "\n",
    "    # ## other data held separately\n",
    "\n",
    "    # for target in target_items:        \n",
    "    #     other_details = target.find(\"ul\", class_=\"details_info\").find_all(\"li\", class_=\"detail_cell\")        \n",
    "    #     building_units = [ other_details[0].replace(\" units\", \"\") ]\n",
    "    #     building_stories = [ other_details[1].replace(\" stories\", \"\") ]\n",
    "    #     building_year = [ other_details[2].replace(\"built in\", \"\") ]\n",
    "\n",
    "    # ## create df to hold all data\n",
    "\n",
    "    # main_df.append(pd.DataFrame({ \"building_name\": building_names,\n",
    "    #                              \"link\": building_links,\n",
    "    #                              \"address\": building_addresses,\n",
    "    #                              \"coordinates\": building_latlng,\n",
    "    #                              \"year_built\": building_year,\n",
    "    #                              \"total_stories\": building_stories,\n",
    "    #                              \"total_units\": building_units\n",
    "    #                             }))\n",
    "\n",
    "    snoozer(21, 56)\n",
    "        \n",
    "print(f\"Done scraping {end_page} pages!\")  "
   ]
  },
  {
   "cell_type": "code",
   "execution_count": null,
   "id": "9e09d538-0efe-4c84-b480-3d5f5ca30b4b",
   "metadata": {},
   "outputs": [],
   "source": [
    "errors_list"
   ]
  },
  {
   "cell_type": "code",
   "execution_count": null,
   "id": "7626dad3-30c6-4a18-90e1-2f7af3b2a5e0",
   "metadata": {},
   "outputs": [],
   "source": []
  }
 ],
 "metadata": {
  "kernelspec": {
   "display_name": "Python 3 (ipykernel)",
   "language": "python",
   "name": "python3"
  },
  "language_info": {
   "codemirror_mode": {
    "name": "ipython",
    "version": 3
   },
   "file_extension": ".py",
   "mimetype": "text/x-python",
   "name": "python",
   "nbconvert_exporter": "python",
   "pygments_lexer": "ipython3",
   "version": "3.11.8"
  }
 },
 "nbformat": 4,
 "nbformat_minor": 5
}
