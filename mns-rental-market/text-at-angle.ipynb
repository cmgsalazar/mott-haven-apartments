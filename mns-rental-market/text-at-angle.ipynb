{
 "cells": [
  {
   "cell_type": "markdown",
   "id": "fd0e1b53-0873-4d74-9715-774d8032663a",
   "metadata": {},
   "source": [
    "# Extracting rotated text\n",
    "\n",
    "Some of the older MNS rental market reports have texts that are rotated at an angle. This notebook attempts to extract that text using `pymupdf4llm`."
   ]
  },
  {
   "cell_type": "code",
   "execution_count": null,
   "id": "a86109da-0dc6-4fb7-b0f9-0497262315c2",
   "metadata": {},
   "outputs": [],
   "source": [
    "# importing libraries\n",
    "\n",
    "import pandas as pd \n",
    "import glob\n",
    "import pymupdf4llm # works best for this case, but still needs clean-up\n",
    "import regex as re"
   ]
  }
 ],
 "metadata": {
  "kernelspec": {
   "display_name": "Python 3 (ipykernel)",
   "language": "python",
   "name": "python3"
  },
  "language_info": {
   "codemirror_mode": {
    "name": "ipython",
    "version": 3
   },
   "file_extension": ".py",
   "mimetype": "text/x-python",
   "name": "python",
   "nbconvert_exporter": "python",
   "pygments_lexer": "ipython3",
   "version": "3.11.8"
  }
 },
 "nbformat": 4,
 "nbformat_minor": 5
}
