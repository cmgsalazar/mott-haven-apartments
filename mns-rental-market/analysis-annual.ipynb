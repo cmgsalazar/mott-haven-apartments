{
 "cells": [
  {
   "cell_type": "markdown",
   "id": "725c7791-690f-49cd-ac98-ab9d164f8960",
   "metadata": {},
   "source": [
    "# Analyzing Bronx and Mott Haven yearly average rental prices\n",
    "\n",
    "In this notebook, we will be looking at trends in annual rental prices in Bronx and Mott Haven. The objective: find when the biggest spike in prices happened. This will lead us to further investigation."
   ]
  },
  {
   "cell_type": "code",
   "execution_count": 1,
   "id": "6d4712de-b566-4550-a1da-9182771a5d8d",
   "metadata": {},
   "outputs": [],
   "source": [
    "# importing libraries\n",
    "\n",
    "import pandas as pd"
   ]
  },
  {
   "cell_type": "code",
   "execution_count": 2,
   "id": "ee4ef0cd-eaf4-423d-b642-2794e9883702",
   "metadata": {},
   "outputs": [
    {
     "data": {
      "text/plain": [
       "filename                        object\n",
       "bx_studio_rent                   int64\n",
       "bx_one-bedroom_rent              int64\n",
       "bx_two-bedroom_rent              int64\n",
       "year                             int64\n",
       "trends                          object\n",
       "mott_haven_studio_rent         float64\n",
       "mott_haven_one-bedroom_rent    float64\n",
       "mott_haven_two-bedroom_rent    float64\n",
       "dtype: object"
      ]
     },
     "execution_count": 2,
     "metadata": {},
     "output_type": "execute_result"
    }
   ],
   "source": [
    "# pulling the dataset we need\n",
    "\n",
    "df = pd.read_csv(\"datasets/annual_data_complete.csv\")\n",
    "df.dtypes"
   ]
  },
  {
   "cell_type": "code",
   "execution_count": 3,
   "id": "5e38047d-1d9c-4acc-9d9e-d07c90be1609",
   "metadata": {},
   "outputs": [
    {
     "data": {
      "text/html": [
       "<div>\n",
       "<style scoped>\n",
       "    .dataframe tbody tr th:only-of-type {\n",
       "        vertical-align: middle;\n",
       "    }\n",
       "\n",
       "    .dataframe tbody tr th {\n",
       "        vertical-align: top;\n",
       "    }\n",
       "\n",
       "    .dataframe thead th {\n",
       "        text-align: right;\n",
       "    }\n",
       "</style>\n",
       "<table border=\"1\" class=\"dataframe\">\n",
       "  <thead>\n",
       "    <tr style=\"text-align: right;\">\n",
       "      <th></th>\n",
       "      <th>filename</th>\n",
       "      <th>bx_studio_rent</th>\n",
       "      <th>bx_one-bedroom_rent</th>\n",
       "      <th>bx_two-bedroom_rent</th>\n",
       "      <th>year</th>\n",
       "      <th>trends</th>\n",
       "      <th>mott_haven_studio_rent</th>\n",
       "      <th>mott_haven_one-bedroom_rent</th>\n",
       "      <th>mott_haven_two-bedroom_rent</th>\n",
       "    </tr>\n",
       "  </thead>\n",
       "  <tbody>\n",
       "    <tr>\n",
       "      <th>0</th>\n",
       "      <td>yearend-reports/bronx_year_end_market_report_2...</td>\n",
       "      <td>1666</td>\n",
       "      <td>1872</td>\n",
       "      <td>2265</td>\n",
       "      <td>2019</td>\n",
       "      <td>NaN</td>\n",
       "      <td>NaN</td>\n",
       "      <td>NaN</td>\n",
       "      <td>NaN</td>\n",
       "    </tr>\n",
       "    <tr>\n",
       "      <th>1</th>\n",
       "      <td>yearend-reports/bronx_year_end_market_report_2...</td>\n",
       "      <td>1675</td>\n",
       "      <td>1883</td>\n",
       "      <td>2318</td>\n",
       "      <td>2020</td>\n",
       "      <td>Thanks to their proximity to Manhattan, increa...</td>\n",
       "      <td>1586.0</td>\n",
       "      <td>1728.0</td>\n",
       "      <td>2096.0</td>\n",
       "    </tr>\n",
       "    <tr>\n",
       "      <th>2</th>\n",
       "      <td>yearend-reports/bronx_year_end_market_report_2...</td>\n",
       "      <td>1686</td>\n",
       "      <td>1953</td>\n",
       "      <td>2429</td>\n",
       "      <td>2021</td>\n",
       "      <td>Mott Haven saw the years largest overall incre...</td>\n",
       "      <td>1948.0</td>\n",
       "      <td>2337.0</td>\n",
       "      <td>2749.0</td>\n",
       "    </tr>\n",
       "    <tr>\n",
       "      <th>3</th>\n",
       "      <td>yearend-reports/bronx_year_end_market_report_2...</td>\n",
       "      <td>1902</td>\n",
       "      <td>2096</td>\n",
       "      <td>2650</td>\n",
       "      <td>2022</td>\n",
       "      <td>Mott Haven saw the years largest overall incre...</td>\n",
       "      <td>2586.0</td>\n",
       "      <td>2590.0</td>\n",
       "      <td>3190.0</td>\n",
       "    </tr>\n",
       "    <tr>\n",
       "      <th>4</th>\n",
       "      <td>yearend-reports/bronx_year_end_market_report_2...</td>\n",
       "      <td>2086</td>\n",
       "      <td>2272</td>\n",
       "      <td>2815</td>\n",
       "      <td>2023</td>\n",
       "      <td>NaN</td>\n",
       "      <td>2665.0</td>\n",
       "      <td>2916.0</td>\n",
       "      <td>3483.0</td>\n",
       "    </tr>\n",
       "  </tbody>\n",
       "</table>\n",
       "</div>"
      ],
      "text/plain": [
       "                                            filename  bx_studio_rent  \\\n",
       "0  yearend-reports/bronx_year_end_market_report_2...            1666   \n",
       "1  yearend-reports/bronx_year_end_market_report_2...            1675   \n",
       "2  yearend-reports/bronx_year_end_market_report_2...            1686   \n",
       "3  yearend-reports/bronx_year_end_market_report_2...            1902   \n",
       "4  yearend-reports/bronx_year_end_market_report_2...            2086   \n",
       "\n",
       "   bx_one-bedroom_rent  bx_two-bedroom_rent  year  \\\n",
       "0                 1872                 2265  2019   \n",
       "1                 1883                 2318  2020   \n",
       "2                 1953                 2429  2021   \n",
       "3                 2096                 2650  2022   \n",
       "4                 2272                 2815  2023   \n",
       "\n",
       "                                              trends  mott_haven_studio_rent  \\\n",
       "0                                                NaN                     NaN   \n",
       "1  Thanks to their proximity to Manhattan, increa...                  1586.0   \n",
       "2  Mott Haven saw the years largest overall incre...                  1948.0   \n",
       "3  Mott Haven saw the years largest overall incre...                  2586.0   \n",
       "4                                                NaN                  2665.0   \n",
       "\n",
       "   mott_haven_one-bedroom_rent  mott_haven_two-bedroom_rent  \n",
       "0                          NaN                          NaN  \n",
       "1                       1728.0                       2096.0  \n",
       "2                       2337.0                       2749.0  \n",
       "3                       2590.0                       3190.0  \n",
       "4                       2916.0                       3483.0  "
      ]
     },
     "execution_count": 3,
     "metadata": {},
     "output_type": "execute_result"
    }
   ],
   "source": [
    "df"
   ]
  },
  {
   "cell_type": "markdown",
   "id": "34fda1cf-3238-4f69-b475-e525542587e7",
   "metadata": {},
   "source": [
    "## Marking difference between Mott Haven and Bronx prices"
   ]
  },
  {
   "cell_type": "code",
   "execution_count": 4,
   "id": "ad9bb636-e689-433d-a989-e1f2cb7848ef",
   "metadata": {},
   "outputs": [
    {
     "data": {
      "text/html": [
       "<div>\n",
       "<style scoped>\n",
       "    .dataframe tbody tr th:only-of-type {\n",
       "        vertical-align: middle;\n",
       "    }\n",
       "\n",
       "    .dataframe tbody tr th {\n",
       "        vertical-align: top;\n",
       "    }\n",
       "\n",
       "    .dataframe thead th {\n",
       "        text-align: right;\n",
       "    }\n",
       "</style>\n",
       "<table border=\"1\" class=\"dataframe\">\n",
       "  <thead>\n",
       "    <tr style=\"text-align: right;\">\n",
       "      <th></th>\n",
       "      <th>year</th>\n",
       "      <th>bx_studio_rent</th>\n",
       "      <th>mott_haven_studio_rent</th>\n",
       "    </tr>\n",
       "  </thead>\n",
       "  <tbody>\n",
       "    <tr>\n",
       "      <th>4</th>\n",
       "      <td>2023</td>\n",
       "      <td>2086</td>\n",
       "      <td>2665.0</td>\n",
       "    </tr>\n",
       "    <tr>\n",
       "      <th>3</th>\n",
       "      <td>2022</td>\n",
       "      <td>1902</td>\n",
       "      <td>2586.0</td>\n",
       "    </tr>\n",
       "    <tr>\n",
       "      <th>2</th>\n",
       "      <td>2021</td>\n",
       "      <td>1686</td>\n",
       "      <td>1948.0</td>\n",
       "    </tr>\n",
       "    <tr>\n",
       "      <th>1</th>\n",
       "      <td>2020</td>\n",
       "      <td>1675</td>\n",
       "      <td>1586.0</td>\n",
       "    </tr>\n",
       "    <tr>\n",
       "      <th>0</th>\n",
       "      <td>2019</td>\n",
       "      <td>1666</td>\n",
       "      <td>NaN</td>\n",
       "    </tr>\n",
       "  </tbody>\n",
       "</table>\n",
       "</div>"
      ],
      "text/plain": [
       "   year  bx_studio_rent  mott_haven_studio_rent\n",
       "4  2023            2086                  2665.0\n",
       "3  2022            1902                  2586.0\n",
       "2  2021            1686                  1948.0\n",
       "1  2020            1675                  1586.0\n",
       "0  2019            1666                     NaN"
      ]
     },
     "execution_count": 4,
     "metadata": {},
     "output_type": "execute_result"
    }
   ],
   "source": [
    "# studio rent\n",
    "studio_data = df.sort_values(\"mott_haven_studio_rent\", ascending=False)[[\"year\", \"bx_studio_rent\", \"mott_haven_studio_rent\"]]\n",
    "studio_data.head(10)"
   ]
  },
  {
   "cell_type": "code",
   "execution_count": 5,
   "id": "56de80e2-f3ff-45c2-b243-4456baca8db6",
   "metadata": {},
   "outputs": [
    {
     "data": {
      "text/plain": [
       "<Axes: xlabel='year'>"
      ]
     },
     "execution_count": 5,
     "metadata": {},
     "output_type": "execute_result"
    },
    {
     "data": {
      "image/png": "[encoded data removed]",
      "text/plain": [
       "<Figure size 800x500 with 1 Axes>"
      ]
     },
     "metadata": {},
     "output_type": "display_data"
    }
   ],
   "source": [
    "studio_data.sort_values(\"year\").plot(kind=\"bar\", x=\"year\", figsize=[8,5])"
   ]
  },
  {
   "cell_type": "code",
   "execution_count": 6,
   "id": "315f610c-78a9-4dc1-893c-e237e2591532",
   "metadata": {},
   "outputs": [
    {
     "data": {
      "text/html": [
       "<div>\n",
       "<style scoped>\n",
       "    .dataframe tbody tr th:only-of-type {\n",
       "        vertical-align: middle;\n",
       "    }\n",
       "\n",
       "    .dataframe tbody tr th {\n",
       "        vertical-align: top;\n",
       "    }\n",
       "\n",
       "    .dataframe thead th {\n",
       "        text-align: right;\n",
       "    }\n",
       "</style>\n",
       "<table border=\"1\" class=\"dataframe\">\n",
       "  <thead>\n",
       "    <tr style=\"text-align: right;\">\n",
       "      <th></th>\n",
       "      <th>year</th>\n",
       "      <th>bx_one-bedroom_rent</th>\n",
       "      <th>mott_haven_one-bedroom_rent</th>\n",
       "    </tr>\n",
       "  </thead>\n",
       "  <tbody>\n",
       "    <tr>\n",
       "      <th>4</th>\n",
       "      <td>2023</td>\n",
       "      <td>2272</td>\n",
       "      <td>2916.0</td>\n",
       "    </tr>\n",
       "    <tr>\n",
       "      <th>3</th>\n",
       "      <td>2022</td>\n",
       "      <td>2096</td>\n",
       "      <td>2590.0</td>\n",
       "    </tr>\n",
       "    <tr>\n",
       "      <th>2</th>\n",
       "      <td>2021</td>\n",
       "      <td>1953</td>\n",
       "      <td>2337.0</td>\n",
       "    </tr>\n",
       "    <tr>\n",
       "      <th>1</th>\n",
       "      <td>2020</td>\n",
       "      <td>1883</td>\n",
       "      <td>1728.0</td>\n",
       "    </tr>\n",
       "    <tr>\n",
       "      <th>0</th>\n",
       "      <td>2019</td>\n",
       "      <td>1872</td>\n",
       "      <td>NaN</td>\n",
       "    </tr>\n",
       "  </tbody>\n",
       "</table>\n",
       "</div>"
      ],
      "text/plain": [
       "   year  bx_one-bedroom_rent  mott_haven_one-bedroom_rent\n",
       "4  2023                 2272                       2916.0\n",
       "3  2022                 2096                       2590.0\n",
       "2  2021                 1953                       2337.0\n",
       "1  2020                 1883                       1728.0\n",
       "0  2019                 1872                          NaN"
      ]
     },
     "execution_count": 6,
     "metadata": {},
     "output_type": "execute_result"
    }
   ],
   "source": [
    "# one-bedroom rent\n",
    "one_bedroom_data = df.sort_values(\"mott_haven_one-bedroom_rent\", ascending=False)[[\"year\", \"bx_one-bedroom_rent\", \"mott_haven_one-bedroom_rent\"]]\n",
    "one_bedroom_data.head(10)"
   ]
  },
  {
   "cell_type": "code",
   "execution_count": 7,
   "id": "26a0476a-913c-408a-aa91-d86806fff89c",
   "metadata": {},
   "outputs": [
    {
     "data": {
      "text/plain": [
       "<Axes: xlabel='year'>"
      ]
     },
     "execution_count": 7,
     "metadata": {},
     "output_type": "execute_result"
    },
    {
     "data": {
      "image/png": "[encoded data removed]",
      "text/plain": [
       "<Figure size 800x500 with 1 Axes>"
      ]
     },
     "metadata": {},
     "output_type": "display_data"
    }
   ],
   "source": [
    "one_bedroom_data.sort_values(\"year\").plot(kind=\"bar\", x=\"year\", figsize=[8,5])"
   ]
  },
  {
   "cell_type": "code",
   "execution_count": 8,
   "id": "3dcc3373-ff0b-4199-9d45-c137e11860e6",
   "metadata": {},
   "outputs": [
    {
     "data": {
      "text/html": [
       "<div>\n",
       "<style scoped>\n",
       "    .dataframe tbody tr th:only-of-type {\n",
       "        vertical-align: middle;\n",
       "    }\n",
       "\n",
       "    .dataframe tbody tr th {\n",
       "        vertical-align: top;\n",
       "    }\n",
       "\n",
       "    .dataframe thead th {\n",
       "        text-align: right;\n",
       "    }\n",
       "</style>\n",
       "<table border=\"1\" class=\"dataframe\">\n",
       "  <thead>\n",
       "    <tr style=\"text-align: right;\">\n",
       "      <th></th>\n",
       "      <th>year</th>\n",
       "      <th>bx_two-bedroom_rent</th>\n",
       "      <th>mott_haven_two-bedroom_rent</th>\n",
       "    </tr>\n",
       "  </thead>\n",
       "  <tbody>\n",
       "    <tr>\n",
       "      <th>4</th>\n",
       "      <td>2023</td>\n",
       "      <td>2815</td>\n",
       "      <td>3483.0</td>\n",
       "    </tr>\n",
       "    <tr>\n",
       "      <th>3</th>\n",
       "      <td>2022</td>\n",
       "      <td>2650</td>\n",
       "      <td>3190.0</td>\n",
       "    </tr>\n",
       "    <tr>\n",
       "      <th>2</th>\n",
       "      <td>2021</td>\n",
       "      <td>2429</td>\n",
       "      <td>2749.0</td>\n",
       "    </tr>\n",
       "    <tr>\n",
       "      <th>1</th>\n",
       "      <td>2020</td>\n",
       "      <td>2318</td>\n",
       "      <td>2096.0</td>\n",
       "    </tr>\n",
       "    <tr>\n",
       "      <th>0</th>\n",
       "      <td>2019</td>\n",
       "      <td>2265</td>\n",
       "      <td>NaN</td>\n",
       "    </tr>\n",
       "  </tbody>\n",
       "</table>\n",
       "</div>"
      ],
      "text/plain": [
       "   year  bx_two-bedroom_rent  mott_haven_two-bedroom_rent\n",
       "4  2023                 2815                       3483.0\n",
       "3  2022                 2650                       3190.0\n",
       "2  2021                 2429                       2749.0\n",
       "1  2020                 2318                       2096.0\n",
       "0  2019                 2265                          NaN"
      ]
     },
     "execution_count": 8,
     "metadata": {},
     "output_type": "execute_result"
    }
   ],
   "source": [
    "# two-bedroom rent\n",
    "two_bedroom_data = df.sort_values(\"mott_haven_two-bedroom_rent\", ascending=False)[[\"year\", \"bx_two-bedroom_rent\", \"mott_haven_two-bedroom_rent\"]]\n",
    "two_bedroom_data.head(10)"
   ]
  },
  {
   "cell_type": "code",
   "execution_count": 9,
   "id": "d4b18986-fc83-4bac-ac10-05ccd4bddc9f",
   "metadata": {},
   "outputs": [
    {
     "data": {
      "text/plain": [
       "<Axes: xlabel='year'>"
      ]
     },
     "execution_count": 9,
     "metadata": {},
     "output_type": "execute_result"
    },
    {
     "data": {
      "image/png": "[encoded data removed]",
      "text/plain": [
       "<Figure size 800x500 with 1 Axes>"
      ]
     },
     "metadata": {},
     "output_type": "display_data"
    }
   ],
   "source": [
    "two_bedroom_data.sort_values(\"year\").plot(kind=\"bar\", x=\"year\", figsize=[8,5])"
   ]
  },
  {
   "cell_type": "markdown",
   "id": "a8dcef67-8fee-432d-bc9c-861e607ad4ed",
   "metadata": {},
   "source": [
    "## Observation\n",
    "\n",
    "From 2021, average rental rates in Mott Haven are higher than that of the Bronx (borough)."
   ]
  },
  {
   "cell_type": "code",
   "execution_count": null,
   "id": "807c29ec-91f1-4ec4-a567-2ec5512116b2",
   "metadata": {},
   "outputs": [],
   "source": []
  }
 ],
 "metadata": {
  "kernelspec": {
   "display_name": "Python 3 (ipykernel)",
   "language": "python",
   "name": "python3"
  },
  "language_info": {
   "codemirror_mode": {
    "name": "ipython",
    "version": 3
   },
   "file_extension": ".py",
   "mimetype": "text/x-python",
   "name": "python",
   "nbconvert_exporter": "python",
   "pygments_lexer": "ipython3",
   "version": "3.11.8"
  }
 },
 "nbformat": 4,
 "nbformat_minor": 5
}
